{
  "nbformat": 4,
  "nbformat_minor": 0,
  "metadata": {
    "colab": {
      "name": "Projektmunka.ipynb",
      "provenance": [],
      "collapsed_sections": [],
      "toc_visible": true,
      "include_colab_link": true
    },
    "kernelspec": {
      "name": "python3",
      "display_name": "Python 3"
    },
    "accelerator": "GPU"
  },
  "cells": [
    {
      "cell_type": "markdown",
      "metadata": {
        "id": "view-in-github",
        "colab_type": "text"
      },
      "source": [
        "<a href=\"https://colab.research.google.com/github/tetsuroba/HiraganaDNN/blob/master/HiraganaDNN.ipynb\" target=\"_parent\"><img src=\"https://colab.research.google.com/assets/colab-badge.svg\" alt=\"Open In Colab\"/></a>"
      ]
    },
    {
      "cell_type": "markdown",
      "metadata": {
        "id": "EB21EXgoXMKw",
        "colab_type": "text"
      },
      "source": [
        "#Importok\n"
      ]
    },
    {
      "cell_type": "code",
      "metadata": {
        "id": "SlWS1tLgUABq",
        "colab_type": "code",
        "outputId": "08213941-5a3e-41c7-b6cc-0af43a973e5d",
        "colab": {
          "base_uri": "https://localhost:8080/",
          "height": 131
        }
      },
      "source": [
        "!pip install bitstring\n",
        "from google.colab import drive\n",
        "import numpy as np\n",
        "import pandas as pd\n",
        "from PIL import Image, ImageEnhance\n",
        "from PIL import ImageOps, ImageMath\n",
        "from matplotlib import pyplot as plt\n",
        "import cv2\n",
        "import pylab\n",
        "import struct\n",
        "import bitstring\n",
        "from PIL import Image\n",
        "import tensorflow as tf\n",
        "import sys\n",
        "import codecs\n",
        "from google.colab import files\n"
      ],
      "execution_count": 0,
      "outputs": [
        {
          "output_type": "stream",
          "text": [
            "Collecting bitstring\n",
            "  Downloading https://files.pythonhosted.org/packages/c7/b9/ce7458b35633968eae3477a201a00f6c8e01cab0ccb200ea5099d41dd977/bitstring-3.1.6-py3-none-any.whl\n",
            "Installing collected packages: bitstring\n",
            "Successfully installed bitstring-3.1.6\n"
          ],
          "name": "stdout"
        },
        {
          "output_type": "display_data",
          "data": {
            "text/html": [
              "<p style=\"color: red;\">\n",
              "The default version of TensorFlow in Colab will soon switch to TensorFlow 2.x.<br>\n",
              "We recommend you <a href=\"https://www.tensorflow.org/guide/migrate\" target=\"_blank\">upgrade</a> now \n",
              "or ensure your notebook will continue to use TensorFlow 1.x via the <code>%tensorflow_version 1.x</code> magic:\n",
              "<a href=\"https://colab.research.google.com/notebooks/tensorflow_version.ipynb\" target=\"_blank\">more info</a>.</p>\n"
            ],
            "text/plain": [
              "<IPython.core.display.HTML object>"
            ]
          },
          "metadata": {
            "tags": []
          }
        }
      ]
    },
    {
      "cell_type": "markdown",
      "metadata": {
        "id": "UTwa4B_1IDc0",
        "colab_type": "text"
      },
      "source": [
        "#Adatbázis importálása\n"
      ]
    },
    {
      "cell_type": "code",
      "metadata": {
        "id": "-otw7HOWIKA_",
        "colab_type": "code",
        "outputId": "44d1c99d-889e-45e9-9e64-6f729541d74f",
        "colab": {
          "base_uri": "https://localhost:8080/",
          "height": 122
        }
      },
      "source": [
        "drive.mount('/content/gdrive')\n",
        "\n",
        "filename = \"/content/gdrive/My Drive/ETL4/ETL4C\"\n"
      ],
      "execution_count": 0,
      "outputs": [
        {
          "output_type": "stream",
          "text": [
            "Go to this URL in a browser: https://accounts.google.com/o/oauth2/auth?client_id=947318989803-6bn6qk8qdgf4n4g3pfee6491hc0brc4i.apps.googleusercontent.com&redirect_uri=urn%3aietf%3awg%3aoauth%3a2.0%3aoob&response_type=code&scope=email%20https%3a%2f%2fwww.googleapis.com%2fauth%2fdocs.test%20https%3a%2f%2fwww.googleapis.com%2fauth%2fdrive%20https%3a%2f%2fwww.googleapis.com%2fauth%2fdrive.photos.readonly%20https%3a%2f%2fwww.googleapis.com%2fauth%2fpeopleapi.readonly\n",
            "\n",
            "Enter your authorization code:\n",
            "··········\n",
            "Mounted at /content/gdrive\n"
          ],
          "name": "stdout"
        }
      ]
    },
    {
      "cell_type": "markdown",
      "metadata": {
        "id": "Z1KsLYFxYS3V",
        "colab_type": "text"
      },
      "source": [
        "#Alap változók"
      ]
    },
    {
      "cell_type": "code",
      "metadata": {
        "id": "MMn597-tYXMP",
        "colab_type": "code",
        "colab": {}
      },
      "source": [
        "hiragana_chars = \"をゐゑあいうえおかきくけこさしすせそたちつてとなにぬねのはひふへほまみむめもやゆよらりるれろわん\"\n",
        "latin = \"wo,wi,we,a,i,u,e,o,ka,ki,ku,ke,ko,sa,shi,su,se,so,ta,chi,tsu,te,to,na,ni,nu,ne,no,ha,hi,fu,he,ho,ma,mi,mu,me,mo,ya,yu,yo,ra,ri,ru,re,ro,wa,n\";\n",
        "\n",
        "\n",
        "\n",
        "def read_input(f, pos=2):\n",
        "   f = bitstring.ConstBitStream(filename=f)\n",
        "   f.bytepos = pos * 2952\n",
        "   r = f.readlist('2*uint:36,uint:8,pad:28,uint:8,pad:28,4*uint:6,pad:12,15*uint:36,pad:1008,bytes:21888')\n",
        "   return r\n",
        "\n",
        "def create_data():\n",
        "    data =  np.zeros((6113,76,72)) #5472\n",
        "    labels = np.zeros(6113)\n",
        "    for i in range(6113):\n",
        "        r = read_input(filename,pos=i)\n",
        "        iF = Image.frombytes('F', (r[18], r[19]), r[-1], 'bit', 4)\n",
        "        iP = iF.convert('L')\n",
        "        enhancer = ImageEnhance.Brightness(iP)\n",
        "        iE = enhancer.enhance(r[20])\n",
        "        temp=np.array(iE)\n",
        "        data[i,:,:] = temp\n",
        "        labels[i] = r[2]\n",
        "    return (data,labels)\n",
        "\n",
        "def preprocessing_data(data1):\n",
        "    kernel = np.ones((3,3),np.float32)/9\n",
        "    crop_temp = np.zeros((data.shape[0],data1.shape[2],data1.shape[2]))\n",
        "    for i in range(data1.shape[0]):\n",
        "          dst = cv2.GaussianBlur(data1[i,:,:],(3,3),0)\n",
        "          ret,data1[i,:,:] = cv2.threshold(dst,0,255,cv2.THRESH_TOZERO+cv2.THRESH_OTSU)\n",
        "          crop_temp[i,:,:] = data1[i,:72,:]\n",
        "    return crop_temp"
      ],
      "execution_count": 0,
      "outputs": []
    },
    {
      "cell_type": "markdown",
      "metadata": {
        "id": "rzthfJ6nYnC2",
        "colab_type": "text"
      },
      "source": [
        "#Képnormalizálás"
      ]
    },
    {
      "cell_type": "code",
      "metadata": {
        "id": "Mwg7VzBwYwdK",
        "colab_type": "code",
        "colab": {}
      },
      "source": [
        "r = read_input(filename)\n",
        "(data,labels) = create_data()\n",
        "data = np.array(data, dtype = np.uint8) \n",
        "\n",
        "data1=data.copy()\n",
        "data1 = preprocessing_data(data1)\n",
        "\n",
        "#data1 labels\n",
        "\n"
      ],
      "execution_count": 0,
      "outputs": []
    },
    {
      "cell_type": "code",
      "metadata": {
        "id": "QlnjMcX-KZJM",
        "colab_type": "code",
        "outputId": "94737cd8-feff-4a41-b824-e946c2ad367d",
        "colab": {
          "base_uri": "https://localhost:8080/",
          "height": 34
        }
      },
      "source": [
        "#print(data[1].shape)"
      ],
      "execution_count": 0,
      "outputs": [
        {
          "output_type": "stream",
          "text": [
            "(76, 72)\n"
          ],
          "name": "stdout"
        }
      ]
    },
    {
      "cell_type": "code",
      "metadata": {
        "id": "ceu-9Y-45NPj",
        "colab_type": "code",
        "colab": {}
      },
      "source": [
        "for i in range(len(labels)):\n",
        "  if(int(labels[i]) == 166):\n",
        "    labels[i] = 0\n",
        "  elif(int(labels[i]) == 168):\n",
        "    labels[i] = 1\n",
        "  elif(int(labels[i]) == 170):\n",
        "    labels[i] = 2\n",
        "  else:\n",
        "    labels[i] = labels[i] - 174"
      ],
      "execution_count": 0,
      "outputs": []
    },
    {
      "cell_type": "code",
      "metadata": {
        "id": "tNYURVVbF0W0",
        "colab_type": "code",
        "outputId": "b645f1fe-cdfc-46e5-d10f-b96b27b471f7",
        "colab": {
          "base_uri": "https://localhost:8080/",
          "height": 462
        }
      },
      "source": [
        "for i in range(5):\n",
        "  img = Image.fromarray(np.uint8(data1[i] * 255) , 'L')\n",
        "  print(hiragana_chars[int(labels[i])])\n",
        "  display(img)\n"
      ],
      "execution_count": 0,
      "outputs": [
        {
          "output_type": "stream",
          "text": [
            "あ\n"
          ],
          "name": "stdout"
        },
        {
          "output_type": "display_data",
          "data": {
            "image/png": "[encoded data removed]",
            "text/plain": [
              "<PIL.Image.Image image mode=L size=72x72 at 0x7FC1CF75ED68>"
            ]
          },
          "metadata": {
            "tags": []
          }
        },
        {
          "output_type": "stream",
          "text": [
            "い\n"
          ],
          "name": "stdout"
        },
        {
          "output_type": "display_data",
          "data": {
            "image/png": "[encoded data removed]",
            "text/plain": [
              "<PIL.Image.Image image mode=L size=72x72 at 0x7FC1CF765860>"
            ]
          },
          "metadata": {
            "tags": []
          }
        },
        {
          "output_type": "stream",
          "text": [
            "う\n"
          ],
          "name": "stdout"
        },
        {
          "output_type": "display_data",
          "data": {
            "image/png": "[encoded data removed]",
            "text/plain": [
              "<PIL.Image.Image image mode=L size=72x72 at 0x7FC1CF765828>"
            ]
          },
          "metadata": {
            "tags": []
          }
        },
        {
          "output_type": "stream",
          "text": [
            "え\n"
          ],
          "name": "stdout"
        },
        {
          "output_type": "display_data",
          "data": {
            "image/png": "[encoded data removed]",
            "text/plain": [
              "<PIL.Image.Image image mode=L size=72x72 at 0x7FC1CF765860>"
            ]
          },
          "metadata": {
            "tags": []
          }
        },
        {
          "output_type": "stream",
          "text": [
            "お\n"
          ],
          "name": "stdout"
        },
        {
          "output_type": "display_data",
          "data": {
            "image/png": "[encoded data removed]",
            "text/plain": [
              "<PIL.Image.Image image mode=L size=72x72 at 0x7FC1CF75EEB8>"
            ]
          },
          "metadata": {
            "tags": []
          }
        }
      ]
    },
    {
      "cell_type": "code",
      "metadata": {
        "id": "fYGFj4rLJfT9",
        "colab_type": "code",
        "outputId": "587b62dc-5c50-496c-f2ea-fae65fcc471f",
        "colab": {
          "base_uri": "https://localhost:8080/",
          "height": 34
        }
      },
      "source": [
        "print(data1.shape)"
      ],
      "execution_count": 0,
      "outputs": [
        {
          "output_type": "stream",
          "text": [
            "(6113, 72, 72)\n"
          ],
          "name": "stdout"
        }
      ]
    },
    {
      "cell_type": "markdown",
      "metadata": {
        "id": "BPMK1MBAPnQw",
        "colab_type": "text"
      },
      "source": [
        "#Adatfeldolgozás\n"
      ]
    },
    {
      "cell_type": "code",
      "metadata": {
        "id": "sTbdTsITPrFB",
        "colab_type": "code",
        "colab": {}
      },
      "source": [
        "from sklearn.preprocessing import LabelEncoder, OneHotEncoder\n",
        "def unison_shuffled_copies(a, b):\n",
        "    assert len(a) == len(b)\n",
        "    p = np.random.permutation(len(a))\n",
        "    return a[p], b[p]\n",
        "\n",
        "data1 = data1/160\n",
        "\n",
        "dataset_size = len(data1)\n",
        "#data1 = data1.reshape(dataset_size,-1)\n",
        "\n",
        "c_features, data_labels_encoded = unison_shuffled_copies(data1, labels)"
      ],
      "execution_count": 0,
      "outputs": []
    },
    {
      "cell_type": "code",
      "metadata": {
        "id": "VDZF3YJKT6d2",
        "colab_type": "code",
        "outputId": "a93cd265-6230-4452-8661-9d261ab87bf7",
        "colab": {
          "base_uri": "https://localhost:8080/",
          "height": 105
        }
      },
      "source": [
        "data_labels_encoded_ohe = np.reshape(data_labels_encoded,(-1,1))\n",
        "\n",
        "ohe_enc = OneHotEncoder()\n",
        "ohe_enc.fit(data_labels_encoded_ohe)\n",
        "data_labels_encoded_ohe = ohe_enc.transform(data_labels_encoded_ohe).toarray()\n",
        "\n",
        "# Osztályok száma\n",
        "num_classes = data_labels_encoded_ohe.shape[1]"
      ],
      "execution_count": 0,
      "outputs": [
        {
          "output_type": "stream",
          "text": [
            "/usr/local/lib/python3.6/dist-packages/sklearn/preprocessing/_encoders.py:415: FutureWarning: The handling of integer data will change in version 0.22. Currently, the categories are determined based on the range [0, max(values)], while in the future they will be determined based on the unique values.\n",
            "If you want the future behaviour and silence this warning, you can specify \"categories='auto'\".\n",
            "In case you used a LabelEncoder before this OneHotEncoder to convert the categories to integers, then you can now use the OneHotEncoder directly.\n",
            "  warnings.warn(msg, FutureWarning)\n"
          ],
          "name": "stderr"
        }
      ]
    },
    {
      "cell_type": "code",
      "metadata": {
        "id": "J2JpxBQI0yRe",
        "colab_type": "code",
        "outputId": "5382183c-097a-4475-a240-bbfd07fa887d",
        "colab": {
          "base_uri": "https://localhost:8080/",
          "height": 34
        }
      },
      "source": [
        "#print(data_labels_encoded)"
      ],
      "execution_count": 0,
      "outputs": [
        {
          "output_type": "stream",
          "text": [
            "[29.  0. 23. ...  6. 15. 30.]\n"
          ],
          "name": "stdout"
        }
      ]
    },
    {
      "cell_type": "code",
      "metadata": {
        "id": "GbcZV5nJMm0O",
        "colab_type": "code",
        "colab": {}
      },
      "source": [
        "distrib = {}\n",
        "\n",
        "\n",
        "for i in range(len(labels)):\n",
        "  try:\n",
        "    distrib[int(labels[i])] += 1\n",
        "  except:\n",
        "    distrib[int(labels[i])] = 1"
      ],
      "execution_count": 0,
      "outputs": []
    },
    {
      "cell_type": "code",
      "metadata": {
        "id": "LqIsVZGXXhQB",
        "colab_type": "code",
        "outputId": "265d9fd9-16cd-41cf-cf70-014e08cd8901",
        "colab": {
          "base_uri": "https://localhost:8080/",
          "height": 282
        }
      },
      "source": [
        "plt.scatter(distrib.keys(),distrib.values(),vmin=0)"
      ],
      "execution_count": 0,
      "outputs": [
        {
          "output_type": "execute_result",
          "data": {
            "text/plain": [
              "<matplotlib.collections.PathCollection at 0x7fc1cf6a9080>"
            ]
          },
          "metadata": {
            "tags": []
          },
          "execution_count": 20
        },
        {
          "output_type": "display_data",
          "data": {
            "image/png": "[encoded data removed]",
            "text/plain": [
              "<Figure size 432x288 with 1 Axes>"
            ]
          },
          "metadata": {
            "tags": []
          }
        }
      ]
    },
    {
      "cell_type": "code",
      "metadata": {
        "id": "vCxOUJeiUJMN",
        "colab_type": "code",
        "colab": {}
      },
      "source": [
        "# Adatok szétválasztása\n",
        "\n",
        "tr_data = c_features[:int(c_features.shape[0]*0.8),:]\n",
        "tr_labels_ohe = data_labels_encoded_ohe[:int(data_labels_encoded_ohe.shape[0]*0.8),:]\n",
        "tr_labels = data_labels_encoded[:int(data_labels_encoded_ohe.shape[0]*0.8)]\n",
        "\n",
        "val_data = c_features[int(c_features.shape[0]*0.8):int(c_features.shape[0]*0.9),:]\n",
        "val_labels_ohe = data_labels_encoded_ohe[int(data_labels_encoded_ohe.shape[0]*0.8):int(data_labels_encoded_ohe.shape[0]*0.9),:]\n",
        "val_labels = data_labels_encoded[int(data_labels_encoded.shape[0]*0.8):int(data_labels_encoded.shape[0]*0.9)]\n",
        "\n",
        "test_data = c_features[int(data_labels_encoded_ohe.shape[0]*0.9):,:]\n",
        "test_labels_ohe = data_labels_encoded_ohe[int(data_labels_encoded_ohe.shape[0]*0.9):,:]\n",
        "test_labels = data_labels_encoded[int(data_labels_encoded.shape[0]*0.9):]"
      ],
      "execution_count": 0,
      "outputs": []
    },
    {
      "cell_type": "code",
      "metadata": {
        "id": "RavO2mNSmn_Y",
        "colab_type": "code",
        "outputId": "3132990b-665c-49dd-c3c1-acca3280280b",
        "colab": {
          "base_uri": "https://localhost:8080/",
          "height": 297
        }
      },
      "source": [
        "import math\n",
        "graph_labels = [r'Train (' + str(int(math.ceil(len(tr_data)/len(data1) * 100))) + '%)', r'Validation (' + str(int(math.ceil(len(val_data)/len(data1) * 100))) + '%)', r'Test (' + str(int(math.floor((len(test_data)/len(data1) * 100)))) + '%)']\n",
        "sizes = [len(tr_data)/len(data1)*100,len(val_data)/len(data1)*100,len(test_data)/len(data1)*100]\n",
        "colors = ['yellowgreen', 'gold', 'lightskyblue']\n",
        "patches, texts = plt.pie(sizes, colors=colors, startangle=90)\n",
        "plt.legend(patches, graph_labels, loc=\"best\")\n",
        "\n",
        "plt.axis('equal')\n",
        "plt.tight_layout()\n",
        "plt.show()\n"
      ],
      "execution_count": 0,
      "outputs": [
        {
          "output_type": "display_data",
          "data": {
            "image/png": "[encoded data removed]",
            "text/plain": [
              "<Figure size 432x288 with 1 Axes>"
            ]
          },
          "metadata": {
            "tags": []
          }
        }
      ]
    },
    {
      "cell_type": "markdown",
      "metadata": {
        "id": "GOsJsbsdHgDr",
        "colab_type": "text"
      },
      "source": [
        "#Hagyományos SVM háló\n"
      ]
    },
    {
      "cell_type": "code",
      "metadata": {
        "id": "tNvw9wcrUMHH",
        "colab_type": "code",
        "colab": {}
      },
      "source": [
        "from sklearn import svm\n",
        "from sklearn.model_selection import GridSearchCV\n",
        "#clf = svm.SVC(gamma=0.1, C=10)\n",
        "\n",
        "parameters = {'kernel':('linear', 'rbf'), 'C':(0.1, 1, 10)}\n",
        "clf = GridSearchCV(svm.SVC(degree=4), parameters)\n",
        "#clf = svm.SVC(C=1, cache_size=200, class_weight=None, coef0=0.0,\n",
        "    #decision_function_shape='ovr', degree=4, gamma='auto_deprecated',\n",
        "    #kernel='linear', max_iter=-1, probability=False, random_state=None,\n",
        "    #shrinking=True, tol=0.001, verbose=False) #legjobb model\n",
        "#clf.fit(x_train, y_train_cat)\n",
        "#print(clf.best_score_) \n",
        "#print(clf.best_params_)\n",
        "#model = clf.best_estimator_\n",
        "\n",
        "#print(model)\n",
        "\n",
        "#train = clf.fit(x_train, y_train_cat)\n",
        "#train"
      ],
      "execution_count": 0,
      "outputs": []
    },
    {
      "cell_type": "code",
      "metadata": {
        "id": "ytaaFDLAjV_n",
        "colab_type": "code",
        "colab": {}
      },
      "source": [
        "flattened_tr_data = tr_data.reshape(len(tr_data),-1)\n",
        "flattened_val_data = val_data.reshape(len(val_data),-1)\n",
        "flattened_test_data = test_data.reshape(len(test_data),-1)"
      ],
      "execution_count": 0,
      "outputs": []
    },
    {
      "cell_type": "code",
      "metadata": {
        "id": "9WuUlSz7NbjO",
        "colab_type": "code",
        "outputId": "48ef6484-ef18-4fa8-e9e3-8205d19f017b",
        "colab": {
          "base_uri": "https://localhost:8080/",
          "height": 85
        }
      },
      "source": [
        "\n",
        "clf = svm.SVC(C=1, cache_size=200, class_weight=None, coef0=0.0,\n",
        "    decision_function_shape='ovr', degree=4, gamma='auto_deprecated',\n",
        "    kernel='linear', max_iter=-1, probability=False, random_state=None,\n",
        "    shrinking=True, tol=0.001, verbose=False) #legjobb model,\n",
        "train = clf.fit(flattened_tr_data,tr_labels)\n",
        "train"
      ],
      "execution_count": 0,
      "outputs": [
        {
          "output_type": "execute_result",
          "data": {
            "text/plain": [
              "SVC(C=1, cache_size=200, class_weight=None, coef0=0.0,\n",
              "    decision_function_shape='ovr', degree=4, gamma='auto_deprecated',\n",
              "    kernel='linear', max_iter=-1, probability=False, random_state=None,\n",
              "    shrinking=True, tol=0.001, verbose=False)"
            ]
          },
          "metadata": {
            "tags": []
          },
          "execution_count": 13
        }
      ]
    },
    {
      "cell_type": "code",
      "metadata": {
        "id": "lJCzc012kDZp",
        "colab_type": "code",
        "outputId": "74628e66-5f8c-41d8-f243-56917efa87e7",
        "colab": {
          "base_uri": "https://localhost:8080/",
          "height": 68
        }
      },
      "source": [
        "# Evaluate performance\n",
        "\n",
        "# Train set\n",
        "train_pred = clf.predict(flattened_tr_data)\n",
        "train_pred_scores = train_pred == tr_labels\n",
        "train_pred_scores = sum(train_pred_scores)\n",
        "print(\"Train score: \", (train_pred_scores/flattened_tr_data.shape[0])*100)\n",
        "\n",
        "# Validation set\n",
        "val_pred = clf.predict(flattened_val_data)\n",
        "val_pred_scores = val_pred == val_labels\n",
        "val_pred_scores = sum(val_pred_scores)\n",
        "print(\"Val score: \", (val_pred_scores/flattened_val_data.shape[0])*100)\n",
        "\n",
        "# Test set\n",
        "test_pred = clf.predict(flattened_test_data)\n",
        "test_pred_scores = test_pred == test_labels\n",
        "test_pred_scores = sum(test_pred_scores)\n",
        "print(\"Test score: \", (test_pred_scores/flattened_test_data.shape[0])*100)"
      ],
      "execution_count": 0,
      "outputs": [
        {
          "output_type": "stream",
          "text": [
            "Train score:  100.0\n",
            "Val score:  68.57610474631751\n",
            "Test score:  68.13725490196079\n"
          ],
          "name": "stdout"
        }
      ]
    },
    {
      "cell_type": "code",
      "metadata": {
        "id": "ouUY37fjKnz8",
        "colab_type": "code",
        "outputId": "18765c6e-7796-4dc2-bac9-6202628f4987",
        "colab": {
          "base_uri": "https://localhost:8080/",
          "height": 479
        }
      },
      "source": [
        "print(test_pred[1])\n",
        "abc = test_data.reshape(len(test_data),72,72)\n",
        "for i in range(5):\n",
        "  img = Image.fromarray(np.uint8(abc[i] * 255) , 'L')\n",
        "  display(img)\n",
        "  print(\"Guess: \" + hiragana_chars[int(test_pred[i])] + \" Correct: \" + hiragana_chars[int(test_labels[i])])"
      ],
      "execution_count": 0,
      "outputs": [
        {
          "output_type": "stream",
          "text": [
            "4.0\n"
          ],
          "name": "stdout"
        },
        {
          "output_type": "display_data",
          "data": {
            "image/png": "[encoded data removed]",
            "text/plain": [
              "<PIL.Image.Image image mode=L size=72x72 at 0x7F07412C9A20>"
            ]
          },
          "metadata": {
            "tags": []
          }
        },
        {
          "output_type": "stream",
          "text": [
            "Guess: ゆ Correct: ぬ\n"
          ],
          "name": "stdout"
        },
        {
          "output_type": "display_data",
          "data": {
            "image/png": "[encoded data removed]",
            "text/plain": [
              "<PIL.Image.Image image mode=L size=72x72 at 0x7F07412C9C18>"
            ]
          },
          "metadata": {
            "tags": []
          }
        },
        {
          "output_type": "stream",
          "text": [
            "Guess: い Correct: い\n"
          ],
          "name": "stdout"
        },
        {
          "output_type": "display_data",
          "data": {
            "image/png": "[encoded data removed]",
            "text/plain": [
              "<PIL.Image.Image image mode=L size=72x72 at 0x7F07412C9D68>"
            ]
          },
          "metadata": {
            "tags": []
          }
        },
        {
          "output_type": "stream",
          "text": [
            "Guess: の Correct: つ\n"
          ],
          "name": "stdout"
        },
        {
          "output_type": "display_data",
          "data": {
            "image/png": "[encoded data removed]",
            "text/plain": [
              "<PIL.Image.Image image mode=L size=72x72 at 0x7F07412C9DD8>"
            ]
          },
          "metadata": {
            "tags": []
          }
        },
        {
          "output_type": "stream",
          "text": [
            "Guess: え Correct: え\n"
          ],
          "name": "stdout"
        },
        {
          "output_type": "display_data",
          "data": {
            "image/png": "[encoded data removed]",
            "text/plain": [
              "<PIL.Image.Image image mode=L size=72x72 at 0x7F07412C9A20>"
            ]
          },
          "metadata": {
            "tags": []
          }
        },
        {
          "output_type": "stream",
          "text": [
            "Guess: は Correct: は\n"
          ],
          "name": "stdout"
        }
      ]
    },
    {
      "cell_type": "code",
      "metadata": {
        "id": "KPC5k0d6rOgE",
        "colab_type": "code",
        "outputId": "784821be-78ae-48c9-df64-496549434b61",
        "colab": {
          "base_uri": "https://localhost:8080/",
          "height": 462
        }
      },
      "source": [
        "abc = val_data.reshape(len(val_data),72,72)\n",
        "for i in range(5):\n",
        "  img = Image.fromarray(np.uint8(abc[i] * 255) , 'L')\n",
        "  display(img)\n",
        "  print(\"Guess: \" + hiragana_chars[int(val_pred[i])] + \" Correct: \" + hiragana_chars[int(val_labels[i])])"
      ],
      "execution_count": 0,
      "outputs": [
        {
          "output_type": "display_data",
          "data": {
            "image/png": "[encoded data removed]",
            "text/plain": [
              "<PIL.Image.Image image mode=L size=72x72 at 0x7F07412CED30>"
            ]
          },
          "metadata": {
            "tags": []
          }
        },
        {
          "output_type": "stream",
          "text": [
            "Guess: ま Correct: ま\n"
          ],
          "name": "stdout"
        },
        {
          "output_type": "display_data",
          "data": {
            "image/png": "[encoded data removed]",
            "text/plain": [
              "<PIL.Image.Image image mode=L size=72x72 at 0x7F07412CABA8>"
            ]
          },
          "metadata": {
            "tags": []
          }
        },
        {
          "output_type": "stream",
          "text": [
            "Guess: け Correct: け\n"
          ],
          "name": "stdout"
        },
        {
          "output_type": "display_data",
          "data": {
            "image/png": "[encoded data removed]",
            "text/plain": [
              "<PIL.Image.Image image mode=L size=72x72 at 0x7F07412CA2B0>"
            ]
          },
          "metadata": {
            "tags": []
          }
        },
        {
          "output_type": "stream",
          "text": [
            "Guess: ん Correct: ん\n"
          ],
          "name": "stdout"
        },
        {
          "output_type": "display_data",
          "data": {
            "image/png": "[encoded data removed]",
            "text/plain": [
              "<PIL.Image.Image image mode=L size=72x72 at 0x7F07412CA208>"
            ]
          },
          "metadata": {
            "tags": []
          }
        },
        {
          "output_type": "stream",
          "text": [
            "Guess: ぬ Correct: ね\n"
          ],
          "name": "stdout"
        },
        {
          "output_type": "display_data",
          "data": {
            "image/png": "[encoded data removed]",
            "text/plain": [
              "<PIL.Image.Image image mode=L size=72x72 at 0x7F07412CA160>"
            ]
          },
          "metadata": {
            "tags": []
          }
        },
        {
          "output_type": "stream",
          "text": [
            "Guess: つ Correct: ふ\n"
          ],
          "name": "stdout"
        }
      ]
    },
    {
      "cell_type": "markdown",
      "metadata": {
        "id": "Fn3tQTNfHnHY",
        "colab_type": "text"
      },
      "source": [
        "#TF Mélyháló"
      ]
    },
    {
      "cell_type": "code",
      "metadata": {
        "id": "p-KxZGMS1Yfe",
        "colab_type": "code",
        "colab": {}
      },
      "source": [
        "learning_rate = 0.2\n",
        "num_steps = 1000\n",
        "batch_size = 256\n",
        "display_step = 100\n",
        "\n",
        "n_hidden_1 = 512\n",
        "n_hidden_2 = 512\n",
        "n_hidden_3 = 256\n",
        "num_input = 5184\n",
        "num_classes = 48"
      ],
      "execution_count": 0,
      "outputs": []
    },
    {
      "cell_type": "code",
      "metadata": {
        "id": "cwQjDk7f3HjT",
        "colab_type": "code",
        "outputId": "83dc803a-f528-4d60-8329-b27e2b18b176",
        "colab": {
          "base_uri": "https://localhost:8080/",
          "height": 34
        }
      },
      "source": [
        "print(tr_data.shape)"
      ],
      "execution_count": 0,
      "outputs": [
        {
          "output_type": "stream",
          "text": [
            "(4890, 72, 72)\n"
          ],
          "name": "stdout"
        }
      ]
    },
    {
      "cell_type": "code",
      "metadata": {
        "id": "WAxWciXO23jG",
        "colab_type": "code",
        "colab": {}
      },
      "source": [
        "tr_data_flattened = tr_data.reshape(len(tr_data),-1)"
      ],
      "execution_count": 0,
      "outputs": []
    },
    {
      "cell_type": "code",
      "metadata": {
        "id": "0DeMLKZp3Prx",
        "colab_type": "code",
        "outputId": "efce0478-b8d5-4f8c-dce8-397d8500ec0a",
        "colab": {
          "base_uri": "https://localhost:8080/",
          "height": 34
        }
      },
      "source": [
        "print(tr_data_flattened[0].shape)"
      ],
      "execution_count": 0,
      "outputs": [
        {
          "output_type": "stream",
          "text": [
            "(5184,)\n"
          ],
          "name": "stdout"
        }
      ]
    },
    {
      "cell_type": "code",
      "metadata": {
        "id": "wh9OYqz12JUJ",
        "colab_type": "code",
        "colab": {}
      },
      "source": [
        "input_fn = tf.estimator.inputs.numpy_input_fn(\n",
        "    x={'images': tr_data_flattened}, y = tr_labels,batch_size = batch_size,num_epochs = None,shuffle=True)"
      ],
      "execution_count": 0,
      "outputs": []
    },
    {
      "cell_type": "code",
      "metadata": {
        "id": "I1_OoJb13i2Z",
        "colab_type": "code",
        "colab": {}
      },
      "source": [
        "def neural_net(x_dict):\n",
        "  x = x_dict['images']\n",
        "\n",
        "  layer_1 = tf.layers.dense(x,n_hidden_1,activation=tf.nn.relu)\n",
        "\n",
        "  layer_2 = tf.layers.dense(layer_1, n_hidden_2, activation=tf.nn.relu)\n",
        "\n",
        "  out_layer = tf.layers.dense(layer_2,num_classes)\n",
        "  return out_layer"
      ],
      "execution_count": 0,
      "outputs": []
    },
    {
      "cell_type": "code",
      "metadata": {
        "id": "XPT3ZEkg30RR",
        "colab_type": "code",
        "colab": {}
      },
      "source": [
        "def model_fn(features,labels,mode):\n",
        "  logits = neural_net_dowd(features)\n",
        "\n",
        "  pred_classes = tf.argmax(logits,axis=1)\n",
        "  pred_probas = tf.nn.softmax(logits)\n",
        "\n",
        "  if mode == tf.estimator.ModeKeys.PREDICT:\n",
        "    return tf.estimator.EstimatorSpec(mode,predictions=pred_classes)\n",
        "\n",
        "  loss_op = tf.reduce_mean(tf.nn.sparse_softmax_cross_entropy_with_logits(\n",
        "        logits=logits, labels=tf.cast(labels, dtype=tf.int32)))\n",
        "  optimizer = tf.train.GradientDescentOptimizer(learning_rate=learning_rate)\n",
        "  train_op = optimizer.minimize(loss_op, global_step=tf.train.get_global_step())\n",
        "\n",
        "  acc_op = tf.metrics.accuracy(labels=labels, predictions=pred_classes)\n",
        "\n",
        "  estim_specs = tf.estimator.EstimatorSpec(\n",
        "      mode=mode,\n",
        "      predictions=pred_classes,\n",
        "      loss=loss_op,\n",
        "      train_op=train_op,\n",
        "      eval_metric_ops={'accuracy': acc_op})\n",
        "\n",
        "  return estim_specs"
      ],
      "execution_count": 0,
      "outputs": []
    },
    {
      "cell_type": "code",
      "metadata": {
        "id": "v9uoTiK34Xwa",
        "colab_type": "code",
        "outputId": "af492bfb-c040-46e0-9b87-93530eb82fba",
        "colab": {
          "base_uri": "https://localhost:8080/",
          "height": 190
        }
      },
      "source": [
        "model = tf.estimator.Estimator(model_fn)"
      ],
      "execution_count": 0,
      "outputs": [
        {
          "output_type": "stream",
          "text": [
            "INFO:tensorflow:Using default config.\n",
            "WARNING:tensorflow:Using temporary folder as model directory: /tmp/tmp3bsralzo\n",
            "INFO:tensorflow:Using config: {'_model_dir': '/tmp/tmp3bsralzo', '_tf_random_seed': None, '_save_summary_steps': 100, '_save_checkpoints_steps': None, '_save_checkpoints_secs': 600, '_session_config': allow_soft_placement: true\n",
            "graph_options {\n",
            "  rewrite_options {\n",
            "    meta_optimizer_iterations: ONE\n",
            "  }\n",
            "}\n",
            ", '_keep_checkpoint_max': 5, '_keep_checkpoint_every_n_hours': 10000, '_log_step_count_steps': 100, '_train_distribute': None, '_device_fn': None, '_protocol': None, '_eval_distribute': None, '_experimental_distribute': None, '_experimental_max_worker_delay_secs': None, '_session_creation_timeout_secs': 7200, '_service': None, '_cluster_spec': <tensorflow.python.training.server_lib.ClusterSpec object at 0x7f4c2bd680f0>, '_task_type': 'worker', '_task_id': 0, '_global_id_in_cluster': 0, '_master': '', '_evaluation_master': '', '_is_chief': True, '_num_ps_replicas': 0, '_num_worker_replicas': 1}\n"
          ],
          "name": "stdout"
        }
      ]
    },
    {
      "cell_type": "code",
      "metadata": {
        "id": "jZv-dGIp4cVn",
        "colab_type": "code",
        "outputId": "35fe5dbb-8844-422f-d38d-d45cb9d99707",
        "colab": {
          "base_uri": "https://localhost:8080/",
          "height": 850
        }
      },
      "source": [
        "model.train(input_fn, steps=2000)"
      ],
      "execution_count": 0,
      "outputs": [
        {
          "output_type": "stream",
          "text": [
            "INFO:tensorflow:Calling model_fn.\n",
            "INFO:tensorflow:Done calling model_fn.\n",
            "INFO:tensorflow:Create CheckpointSaverHook.\n",
            "INFO:tensorflow:Graph was finalized.\n",
            "INFO:tensorflow:Running local_init_op.\n",
            "INFO:tensorflow:Done running local_init_op.\n",
            "INFO:tensorflow:Saving checkpoints for 0 into /tmp/tmp3bsralzo/model.ckpt.\n",
            "INFO:tensorflow:loss = 3.8751711379137728, step = 0\n",
            "INFO:tensorflow:global_step/sec: 90.629\n",
            "INFO:tensorflow:loss = 1.637103843376413, step = 100 (1.107 sec)\n",
            "INFO:tensorflow:global_step/sec: 89.8754\n",
            "INFO:tensorflow:loss = 1.1481204869933923, step = 200 (1.114 sec)\n",
            "INFO:tensorflow:global_step/sec: 89.427\n",
            "INFO:tensorflow:loss = 0.4003610129656778, step = 300 (1.117 sec)\n",
            "INFO:tensorflow:global_step/sec: 89.0353\n",
            "INFO:tensorflow:loss = 0.18907127829868617, step = 400 (1.121 sec)\n",
            "INFO:tensorflow:global_step/sec: 91.2381\n",
            "INFO:tensorflow:loss = 0.18432892883695404, step = 500 (1.097 sec)\n",
            "INFO:tensorflow:global_step/sec: 91.0435\n",
            "INFO:tensorflow:loss = 0.03510085090450177, step = 600 (1.100 sec)\n",
            "INFO:tensorflow:global_step/sec: 89.8901\n",
            "INFO:tensorflow:loss = 0.024589056243060688, step = 700 (1.113 sec)\n",
            "INFO:tensorflow:global_step/sec: 91.1926\n",
            "INFO:tensorflow:loss = 0.012870090765637098, step = 800 (1.096 sec)\n",
            "INFO:tensorflow:global_step/sec: 91.1503\n",
            "INFO:tensorflow:loss = 0.011122460053361448, step = 900 (1.097 sec)\n",
            "INFO:tensorflow:global_step/sec: 90.9699\n",
            "INFO:tensorflow:loss = 0.009031462809518657, step = 1000 (1.096 sec)\n",
            "INFO:tensorflow:global_step/sec: 90.5012\n",
            "INFO:tensorflow:loss = 0.006445291915764746, step = 1100 (1.107 sec)\n",
            "INFO:tensorflow:global_step/sec: 87.7883\n",
            "INFO:tensorflow:loss = 0.006116781835186794, step = 1200 (1.137 sec)\n",
            "INFO:tensorflow:global_step/sec: 89.9982\n",
            "INFO:tensorflow:loss = 0.0050418348488145606, step = 1300 (1.111 sec)\n",
            "INFO:tensorflow:global_step/sec: 91.3927\n",
            "INFO:tensorflow:loss = 0.004765717570308058, step = 1400 (1.098 sec)\n",
            "INFO:tensorflow:global_step/sec: 89.4678\n",
            "INFO:tensorflow:loss = 0.003937592993309114, step = 1500 (1.115 sec)\n",
            "INFO:tensorflow:global_step/sec: 93.9944\n",
            "INFO:tensorflow:loss = 0.004400615940030291, step = 1600 (1.063 sec)\n",
            "INFO:tensorflow:global_step/sec: 91.1728\n",
            "INFO:tensorflow:loss = 0.00447156149853234, step = 1700 (1.098 sec)\n",
            "INFO:tensorflow:global_step/sec: 92.2005\n",
            "INFO:tensorflow:loss = 0.003107882317429569, step = 1800 (1.087 sec)\n",
            "INFO:tensorflow:global_step/sec: 92.5407\n",
            "INFO:tensorflow:loss = 0.0027428125114683896, step = 1900 (1.079 sec)\n",
            "INFO:tensorflow:Saving checkpoints for 2000 into /tmp/tmp3bsralzo/model.ckpt.\n",
            "INFO:tensorflow:Loss for final step: 0.0026042959292884938.\n"
          ],
          "name": "stdout"
        },
        {
          "output_type": "execute_result",
          "data": {
            "text/plain": [
              "<tensorflow_estimator.python.estimator.estimator.Estimator at 0x7f4c2bd64eb8>"
            ]
          },
          "metadata": {
            "tags": []
          },
          "execution_count": 44
        }
      ]
    },
    {
      "cell_type": "code",
      "metadata": {
        "id": "YYTy853u8r7y",
        "colab_type": "code",
        "colab": {}
      },
      "source": [
        "test_data_flattened = test_data.reshape(len(test_data),-1)\n",
        "val_data_flattened = val_data.reshape(len(val_data),-1)"
      ],
      "execution_count": 0,
      "outputs": []
    },
    {
      "cell_type": "code",
      "metadata": {
        "id": "HVN08Pii5V5f",
        "colab_type": "code",
        "colab": {}
      },
      "source": [
        "run_config = tf.estimator.RunConfig(save_checkpoints_steps=1000)"
      ],
      "execution_count": 0,
      "outputs": []
    },
    {
      "cell_type": "code",
      "metadata": {
        "id": "BO2UVkyM8zof",
        "colab_type": "code",
        "colab": {}
      },
      "source": [
        "input_fn_test = tf.estimator.inputs.numpy_input_fn(\n",
        "    x={'images':test_data_flattened}, y = test_labels,\n",
        "    batch_size= batch_size,shuffle=False)\n",
        "input_fn_val = tf.estimator.inputs.numpy_input_fn(\n",
        "    x={'images':val_data_flattened}, y = val_labels,\n",
        "    batch_size= batch_size,shuffle=False)\n",
        "\n",
        "predictions = model.predict(input_fn_val)\n",
        "\n"
      ],
      "execution_count": 0,
      "outputs": []
    },
    {
      "cell_type": "code",
      "metadata": {
        "id": "nm9akuTnpVQD",
        "colab_type": "code",
        "outputId": "8f59574c-fe32-4b05-c96d-0f9e08bbebd7",
        "colab": {
          "base_uri": "https://localhost:8080/",
          "height": 136
        }
      },
      "source": [
        "incorrect = 0\n",
        "allData = len(val_data_flattened)\n",
        "k = 0\n",
        "for i in predictions:\n",
        "  if(i != val_labels[k]):\n",
        "    incorrect += 1\n",
        "  k+=1\n",
        "print(((allData-incorrect)/allData) * 100)\n"
      ],
      "execution_count": 0,
      "outputs": [
        {
          "output_type": "stream",
          "text": [
            "INFO:tensorflow:Calling model_fn.\n",
            "INFO:tensorflow:Done calling model_fn.\n",
            "INFO:tensorflow:Graph was finalized.\n",
            "INFO:tensorflow:Restoring parameters from /tmp/tmp3bsralzo/model.ckpt-2000\n",
            "INFO:tensorflow:Running local_init_op.\n",
            "INFO:tensorflow:Done running local_init_op.\n",
            "82.16039279869068\n"
          ],
          "name": "stdout"
        }
      ]
    },
    {
      "cell_type": "code",
      "metadata": {
        "colab_type": "code",
        "id": "Mqi4VrHg-fP4",
        "colab": {}
      },
      "source": [
        "dropout = 1.0\n",
        "def neural_net_do(x_dict):\n",
        "  x = x_dict['images']\n",
        "\n",
        "  layer_1 = tf.layers.dense(x,n_hidden_1,activation=tf.nn.relu)\n",
        "  layer_1 = tf.layers.dropout(layer_1,dropout)\n",
        "  layer_2 = tf.layers.dense(layer_1, n_hidden_2, activation=tf.nn.relu)\n",
        "  layer_2 = tf.layers.dropout(layer_2,dropout)\n",
        "  layer_3 = tf.layers.dense(layer_2,n_hidden_3,activation=tf.nn.relu)\n",
        "  out_layer = tf.layers.dense(layer_3,num_classes)\n",
        "  return out_layer"
      ],
      "execution_count": 0,
      "outputs": []
    },
    {
      "cell_type": "code",
      "metadata": {
        "colab_type": "code",
        "id": "tWbttUJt-eat",
        "colab": {}
      },
      "source": [
        "regularizer = tf.contrib.layers.l1_regularizer(0.5)\n",
        "def neural_net_wd(x_dict):\n",
        "  x = x_dict['images']\n",
        "\n",
        "  layer_1 = tf.layers.dense(x,n_hidden_1,activation=tf.nn.relu,kernel_regularizer=regularizer)\n",
        "\n",
        "  layer_2 = tf.layers.dense(layer_1, n_hidden_2, activation=tf.nn.relu,kernel_regularizer=regularizer)\n",
        "\n",
        "  out_layer = tf.layers.dense(layer_2,num_classes,kernel_regularizer=regularizer)\n",
        "  return out_layer"
      ],
      "execution_count": 0,
      "outputs": []
    },
    {
      "cell_type": "code",
      "metadata": {
        "id": "bufdRYpOFkts",
        "colab_type": "code",
        "colab": {}
      },
      "source": [
        "dropout = 0\n",
        "regularizer = tf.contrib.layers.l1_regularizer(0.5)\n",
        "def neural_net_dowd(x_dict):\n",
        "  x = x_dict['images']\n",
        "\n",
        "  layer_1 = tf.layers.dense(x,n_hidden_1,activation=tf.nn.relu,kernel_regularizer=regularizer)\n",
        "  layer_1 = tf.layers.dropout(layer_1,dropout)\n",
        "  layer_2 = tf.layers.dense(layer_1, n_hidden_2, activation=tf.nn.relu,kernel_regularizer=regularizer)\n",
        "  layer_2 = tf.layers.dropout(layer_2,dropout)\n",
        "  layer_3 = tf.layers.dense(layer_2,n_hidden_3,activation=tf.nn.relu,kernel_regularizer=regularizer)\n",
        "\n",
        "  out_layer = tf.layers.dense(layer_3,num_classes,kernel_regularizer=regularizer)\n",
        "  return out_layer\n",
        "\n"
      ],
      "execution_count": 0,
      "outputs": []
    },
    {
      "cell_type": "code",
      "metadata": {
        "id": "tB_tNN1v_h4h",
        "colab_type": "code",
        "colab": {}
      },
      "source": [
        "results = np.zeros((5,5))"
      ],
      "execution_count": 0,
      "outputs": []
    },
    {
      "cell_type": "code",
      "metadata": {
        "id": "03OCEpwk1QB2",
        "colab_type": "code",
        "colab": {}
      },
      "source": [
        "model.train(input_fn, steps=num_steps)\n",
        "result = model.evaluate(input_fn_test)\n",
        "results[4][4] = result['accuracy']"
      ],
      "execution_count": 0,
      "outputs": []
    },
    {
      "cell_type": "code",
      "metadata": {
        "id": "J2KEYvLiA0Pc",
        "colab_type": "code",
        "outputId": "ba1860ae-6bce-49d0-e027-9393012a3931",
        "colab": {
          "base_uri": "https://localhost:8080/",
          "height": 102
        }
      },
      "source": [
        "print(results)\n",
        "epochs = [1,2,3,4,5]"
      ],
      "execution_count": 0,
      "outputs": [
        {
          "output_type": "stream",
          "text": [
            "[[0.34640524 0.40849674 0.46895424 0.501634   0.49346405]\n",
            " [0.64705884 0.68954247 0.67483658 0.66666669 0.68464053]\n",
            " [0.72875816 0.73039216 0.73692811 0.751634   0.75980395]\n",
            " [0.79738563 0.82026142 0.80228758 0.79575163 0.80228758]\n",
            " [0.80228758 0.80718952 0.80228758 0.80228758 0.80555558]]\n"
          ],
          "name": "stdout"
        }
      ]
    },
    {
      "cell_type": "code",
      "metadata": {
        "id": "fA5rfjKmDKe-",
        "colab_type": "code",
        "outputId": "34cc9a58-b516-498a-da7f-dcaf35ff591c",
        "colab": {
          "base_uri": "https://localhost:8080/",
          "height": 295
        }
      },
      "source": [
        "for i in range(5):\n",
        "  plt.plot(epochs,results[i], label = \"Dropout: \" + str((i * 2 + 2)/10))\n",
        "\n",
        "plt.xlabel('Epochs') \n",
        "plt.ylabel('Accuracy') \n",
        "plt.title('Dropout') \n",
        "plt.legend() \n",
        "plt.show() "
      ],
      "execution_count": 0,
      "outputs": [
        {
          "output_type": "display_data",
          "data": {
            "image/png": "[encoded data removed]",
            "text/plain": [
              "<Figure size 432x288 with 1 Axes>"
            ]
          },
          "metadata": {
            "tags": []
          }
        }
      ]
    },
    {
      "cell_type": "markdown",
      "metadata": {
        "id": "Kt3ahwtHHtEU",
        "colab_type": "text"
      },
      "source": [
        "#Konvulúciós háló\n"
      ]
    },
    {
      "cell_type": "code",
      "metadata": {
        "id": "-kCx8Vh-PBXh",
        "colab_type": "code",
        "outputId": "8044a87b-a458-44cc-e04f-d2de8d86f49d",
        "colab": {
          "base_uri": "https://localhost:8080/",
          "height": 34
        }
      },
      "source": [
        "import keras"
      ],
      "execution_count": 0,
      "outputs": [
        {
          "output_type": "stream",
          "text": [
            "Using TensorFlow backend.\n"
          ],
          "name": "stderr"
        }
      ]
    },
    {
      "cell_type": "code",
      "metadata": {
        "id": "RjBavmFfPCay",
        "colab_type": "code",
        "colab": {}
      },
      "source": [
        "tr_data_conv = np.expand_dims(tr_data,axis=3) #28,28,1\n",
        "val_data_conv = np.expand_dims(val_data,axis=3)\n",
        "test_data_conv = np.expand_dims(test_data,axis=3)"
      ],
      "execution_count": 0,
      "outputs": []
    },
    {
      "cell_type": "code",
      "metadata": {
        "id": "dkBiiSLzPln1",
        "colab_type": "code",
        "colab": {}
      },
      "source": [
        "from keras.models import Sequential\n",
        "from keras.layers import Conv2D, MaxPooling2D, Dense, Flatten,Dropout\n",
        "from keras import regularizers\n",
        "from keras.callbacks import ModelCheckpoint\n",
        "\n",
        "\n",
        "def create_model():\n",
        "  num_filters = 64\n",
        "  filter_size = 6\n",
        "  pool_size = 3\n",
        "  model = Sequential()\n",
        "  model.add(Conv2D(num_filters,\n",
        "          filter_size,\n",
        "          input_shape=(72, 72, 1),\n",
        "          strides=1,\n",
        "          padding='same',\n",
        "          activation='relu'))\n",
        "  model.add(Dense(128, activation='relu'))\n",
        "  model.add(Conv2D(num_filters,\n",
        "          filter_size,\n",
        "          input_shape=(36, 36, 1),\n",
        "          strides=1,\n",
        "          padding='same',\n",
        "          activation='relu'))\n",
        "  model.add(Dense(64, activation='relu'))\n",
        "  model.add(MaxPooling2D(pool_size=pool_size,padding='valid'))\n",
        "  model.add(Dropout(0.4))\n",
        "  model.add(Dense(32, activation='relu'))\n",
        "  model.add(Conv2D(num_filters,\n",
        "          filter_size,\n",
        "          input_shape=(17, 17, 1),\n",
        "          strides=1,\n",
        "          padding='same',\n",
        "          activation='relu'))\n",
        "  model.add(Dense(64, activation='relu'))\n",
        "  model.add(MaxPooling2D(pool_size=pool_size))\n",
        "  model.add(Flatten())\n",
        "  model.add(Dense(128, activation='relu'))\n",
        "  model.add(Dense(48, activation='softmax'))\n",
        "\n",
        "  \n",
        "  return model\n",
        "\n",
        "def train_model():\n",
        "  model = create_model()\n",
        "\n",
        "  filepath=\"weights-improvement-{epoch:02d}-{val_acc:02d}.hdf5\"\n",
        "  checkpoint = ModelCheckpoint(filepath, monitor='val_acc', verbose=1, save_best_only=True, mode='max')\n",
        "  callbacks_list = [checkpoint]\n",
        "  model.compile(\n",
        "    'adam',\n",
        "    loss='categorical_crossentropy',\n",
        "    metrics=['accuracy'],\n",
        "  )\n",
        "\n",
        "  metrics  = model.fit(\n",
        "    tr_data_conv,\n",
        "    tr_labels_ohe,\n",
        "    epochs=20,\n",
        "    validation_data=(test_data_conv,test_labels_ohe),\n",
        "    callbacks=callbacks_list\n",
        "  )\n"
      ],
      "execution_count": 0,
      "outputs": []
    },
    {
      "cell_type": "code",
      "metadata": {
        "id": "nif9Sykxj4i7",
        "colab_type": "code",
        "outputId": "57cd37a1-668d-4cd0-d28c-b7dd5e2350bd",
        "colab": {
          "base_uri": "https://localhost:8080/",
          "height": 595
        }
      },
      "source": [
        "model.summary()"
      ],
      "execution_count": 0,
      "outputs": [
        {
          "output_type": "stream",
          "text": [
            "Model: \"sequential_16\"\n",
            "_________________________________________________________________\n",
            "Layer (type)                 Output Shape              Param #   \n",
            "=================================================================\n",
            "conv2d_46 (Conv2D)           (None, 72, 72, 64)        2368      \n",
            "_________________________________________________________________\n",
            "dense_91 (Dense)             (None, 72, 72, 128)       8320      \n",
            "_________________________________________________________________\n",
            "conv2d_47 (Conv2D)           (None, 72, 72, 64)        294976    \n",
            "_________________________________________________________________\n",
            "dense_92 (Dense)             (None, 72, 72, 64)        4160      \n",
            "_________________________________________________________________\n",
            "max_pooling2d_31 (MaxPooling (None, 24, 24, 64)        0         \n",
            "_________________________________________________________________\n",
            "dropout_16 (Dropout)         (None, 24, 24, 64)        0         \n",
            "_________________________________________________________________\n",
            "dense_93 (Dense)             (None, 24, 24, 32)        2080      \n",
            "_________________________________________________________________\n",
            "conv2d_48 (Conv2D)           (None, 24, 24, 64)        73792     \n",
            "_________________________________________________________________\n",
            "dense_94 (Dense)             (None, 24, 24, 64)        4160      \n",
            "_________________________________________________________________\n",
            "max_pooling2d_32 (MaxPooling (None, 8, 8, 64)          0         \n",
            "_________________________________________________________________\n",
            "flatten_16 (Flatten)         (None, 4096)              0         \n",
            "_________________________________________________________________\n",
            "dense_95 (Dense)             (None, 128)               524416    \n",
            "_________________________________________________________________\n",
            "dense_96 (Dense)             (None, 48)                6192      \n",
            "=================================================================\n",
            "Total params: 920,464\n",
            "Trainable params: 920,464\n",
            "Non-trainable params: 0\n",
            "_________________________________________________________________\n"
          ],
          "name": "stdout"
        }
      ]
    },
    {
      "cell_type": "code",
      "metadata": {
        "id": "f7k04iashees",
        "colab_type": "code",
        "colab": {}
      },
      "source": [
        "model.load_weights('/content/weights-improvement-15-val_acc91.hdf5')"
      ],
      "execution_count": 0,
      "outputs": []
    },
    {
      "cell_type": "code",
      "metadata": {
        "id": "jUmz5xLf6s6j",
        "colab_type": "code",
        "outputId": "8436e3fa-5009-4389-aa8d-32092cb1a19e",
        "colab": {
          "base_uri": "https://localhost:8080/",
          "height": 34
        }
      },
      "source": [
        "predictions = model.predict(test_data_conv)\n",
        "incorrect = 0\n",
        "for i in range(len(predictions)):\n",
        "  if(np.argmax(predictions[i]) != np.argmax(test_labels_ohe[i])):\n",
        "    incorrect += 1\n",
        "print(\"Accuracy: \" + str( (round((len(predictions)-incorrect) / len(predictions)*100,2) )) + \"%\")"
      ],
      "execution_count": 0,
      "outputs": [
        {
          "output_type": "stream",
          "text": [
            "Accuracy: 91.01%\n"
          ],
          "name": "stdout"
        }
      ]
    },
    {
      "cell_type": "code",
      "metadata": {
        "id": "atzKi-lJmKtH",
        "colab_type": "code",
        "outputId": "46e1d7c5-0370-4748-d62a-b66b764e44da",
        "colab": {
          "base_uri": "https://localhost:8080/",
          "height": 1000
        }
      },
      "source": [
        "for i in range(len(predictions)):\n",
        "  if(np.argmax(predictions[i]) != np.argmax(test_labels_ohe[i])):\n",
        "    abc = test_data.reshape(len(test_data),72,72)\n",
        "    img = Image.fromarray(np.uint8(abc[i] * 255) , 'L')\n",
        "    display(img)\n",
        "    print(\"Guess: \" +  hiragana_chars[int(np.argmax(predictions[i]))] + \"Correct: \" + hiragana_chars[int(np.argmax(test_labels_ohe[i]))])"
      ],
      "execution_count": 0,
      "outputs": [
        {
          "output_type": "display_data",
          "data": {
            "image/png": "[encoded data removed]",
            "text/plain": [
              "<PIL.Image.Image image mode=L size=72x72 at 0x7F8364696B70>"
            ]
          },
          "metadata": {
            "tags": []
          }
        },
        {
          "output_type": "stream",
          "text": [
            "Guess: ろCorrect: う\n"
          ],
          "name": "stdout"
        },
        {
          "output_type": "display_data",
          "data": {
            "image/png": "[encoded data removed]",
            "text/plain": [
              "<PIL.Image.Image image mode=L size=72x72 at 0x7F836467D6A0>"
            ]
          },
          "metadata": {
            "tags": []
          }
        },
        {
          "output_type": "stream",
          "text": [
            "Guess: らCorrect: ち\n"
          ],
          "name": "stdout"
        },
        {
          "output_type": "display_data",
          "data": {
            "image/png": "[encoded data removed]",
            "text/plain": [
              "<PIL.Image.Image image mode=L size=72x72 at 0x7F8364696E10>"
            ]
          },
          "metadata": {
            "tags": []
          }
        },
        {
          "output_type": "stream",
          "text": [
            "Guess: ねCorrect: わ\n"
          ],
          "name": "stdout"
        },
        {
          "output_type": "display_data",
          "data": {
            "image/png": "[encoded data removed]",
            "text/plain": [
              "<PIL.Image.Image image mode=L size=72x72 at 0x7F836467D710>"
            ]
          },
          "metadata": {
            "tags": []
          }
        },
        {
          "output_type": "stream",
          "text": [
            "Guess: にCorrect: ん\n"
          ],
          "name": "stdout"
        },
        {
          "output_type": "display_data",
          "data": {
            "image/png": "[encoded data removed]",
            "text/plain": [
              "<PIL.Image.Image image mode=L size=72x72 at 0x7F8364696470>"
            ]
          },
          "metadata": {
            "tags": []
          }
        },
        {
          "output_type": "stream",
          "text": [
            "Guess: りCorrect: い\n"
          ],
          "name": "stdout"
        },
        {
          "output_type": "display_data",
          "data": {
            "image/png": "[encoded data removed]",
            "text/plain": [
              "<PIL.Image.Image image mode=L size=72x72 at 0x7F836467D6A0>"
            ]
          },
          "metadata": {
            "tags": []
          }
        },
        {
          "output_type": "stream",
          "text": [
            "Guess: きCorrect: を\n"
          ],
          "name": "stdout"
        },
        {
          "output_type": "display_data",
          "data": {
            "image/png": "[encoded data removed]",
            "text/plain": [
              "<PIL.Image.Image image mode=L size=72x72 at 0x7F8364696B70>"
            ]
          },
          "metadata": {
            "tags": []
          }
        },
        {
          "output_type": "stream",
          "text": [
            "Guess: しCorrect: い\n"
          ],
          "name": "stdout"
        },
        {
          "output_type": "display_data",
          "data": {
            "image/png": "[encoded data removed]",
            "text/plain": [
              "<PIL.Image.Image image mode=L size=72x72 at 0x7F836467D710>"
            ]
          },
          "metadata": {
            "tags": []
          }
        },
        {
          "output_type": "stream",
          "text": [
            "Guess: てCorrect: そ\n"
          ],
          "name": "stdout"
        },
        {
          "output_type": "display_data",
          "data": {
            "image/png": "[encoded data removed]",
            "text/plain": [
              "<PIL.Image.Image image mode=L size=72x72 at 0x7F8364696E10>"
            ]
          },
          "metadata": {
            "tags": []
          }
        },
        {
          "output_type": "stream",
          "text": [
            "Guess: ねCorrect: ゐ\n"
          ],
          "name": "stdout"
        },
        {
          "output_type": "display_data",
          "data": {
            "image/png": "[encoded data removed]",
            "text/plain": [
              "<PIL.Image.Image image mode=L size=72x72 at 0x7F836467D6A0>"
            ]
          },
          "metadata": {
            "tags": []
          }
        },
        {
          "output_type": "stream",
          "text": [
            "Guess: ぬCorrect: ね\n"
          ],
          "name": "stdout"
        },
        {
          "output_type": "display_data",
          "data": {
            "image/png": "[encoded data removed]",
            "text/plain": [
              "<PIL.Image.Image image mode=L size=72x72 at 0x7F8364696470>"
            ]
          },
          "metadata": {
            "tags": []
          }
        },
        {
          "output_type": "stream",
          "text": [
            "Guess: のCorrect: め\n"
          ],
          "name": "stdout"
        },
        {
          "output_type": "display_data",
          "data": {
            "image/png": "[encoded data removed]",
            "text/plain": [
              "<PIL.Image.Image image mode=L size=72x72 at 0x7F836467D710>"
            ]
          },
          "metadata": {
            "tags": []
          }
        },
        {
          "output_type": "stream",
          "text": [
            "Guess: きCorrect: そ\n"
          ],
          "name": "stdout"
        },
        {
          "output_type": "display_data",
          "data": {
            "image/png": "[encoded data removed]",
            "text/plain": [
              "<PIL.Image.Image image mode=L size=72x72 at 0x7F8364696B70>"
            ]
          },
          "metadata": {
            "tags": []
          }
        },
        {
          "output_type": "stream",
          "text": [
            "Guess: うCorrect: ろ\n"
          ],
          "name": "stdout"
        },
        {
          "output_type": "display_data",
          "data": {
            "image/png": "[encoded data removed]",
            "text/plain": [
              "<PIL.Image.Image image mode=L size=72x72 at 0x7F836467D6A0>"
            ]
          },
          "metadata": {
            "tags": []
          }
        },
        {
          "output_type": "stream",
          "text": [
            "Guess: りCorrect: け\n"
          ],
          "name": "stdout"
        },
        {
          "output_type": "display_data",
          "data": {
            "image/png": "[encoded data removed]",
            "text/plain": [
              "<PIL.Image.Image image mode=L size=72x72 at 0x7F8364696E10>"
            ]
          },
          "metadata": {
            "tags": []
          }
        },
        {
          "output_type": "stream",
          "text": [
            "Guess: とCorrect: え\n"
          ],
          "name": "stdout"
        },
        {
          "output_type": "display_data",
          "data": {
            "image/png": "[encoded data removed]",
            "text/plain": [
              "<PIL.Image.Image image mode=L size=72x72 at 0x7F836467D710>"
            ]
          },
          "metadata": {
            "tags": []
          }
        },
        {
          "output_type": "stream",
          "text": [
            "Guess: まCorrect: え\n"
          ],
          "name": "stdout"
        },
        {
          "output_type": "display_data",
          "data": {
            "image/png": "[encoded data removed]",
            "text/plain": [
              "<PIL.Image.Image image mode=L size=72x72 at 0x7F8364696470>"
            ]
          },
          "metadata": {
            "tags": []
          }
        },
        {
          "output_type": "stream",
          "text": [
            "Guess: ほCorrect: て\n"
          ],
          "name": "stdout"
        },
        {
          "output_type": "display_data",
          "data": {
            "image/png": "[encoded data removed]",
            "text/plain": [
              "<PIL.Image.Image image mode=L size=72x72 at 0x7F836467D6A0>"
            ]
          },
          "metadata": {
            "tags": []
          }
        },
        {
          "output_type": "stream",
          "text": [
            "Guess: るCorrect: ふ\n"
          ],
          "name": "stdout"
        },
        {
          "output_type": "display_data",
          "data": {
            "image/png": "[encoded data removed]",
            "text/plain": [
              "<PIL.Image.Image image mode=L size=72x72 at 0x7F8364696B70>"
            ]
          },
          "metadata": {
            "tags": []
          }
        },
        {
          "output_type": "stream",
          "text": [
            "Guess: へCorrect: さ\n"
          ],
          "name": "stdout"
        },
        {
          "output_type": "display_data",
          "data": {
            "image/png": "[encoded data removed]",
            "text/plain": [
              "<PIL.Image.Image image mode=L size=72x72 at 0x7F836467D710>"
            ]
          },
          "metadata": {
            "tags": []
          }
        },
        {
          "output_type": "stream",
          "text": [
            "Guess: やCorrect: せ\n"
          ],
          "name": "stdout"
        },
        {
          "output_type": "display_data",
          "data": {
            "image/png": "[encoded data removed]",
            "text/plain": [
              "<PIL.Image.Image image mode=L size=72x72 at 0x7F8364696E10>"
            ]
          },
          "metadata": {
            "tags": []
          }
        },
        {
          "output_type": "stream",
          "text": [
            "Guess: けCorrect: み\n"
          ],
          "name": "stdout"
        },
        {
          "output_type": "display_data",
          "data": {
            "image/png": "[encoded data removed]",
            "text/plain": [
              "<PIL.Image.Image image mode=L size=72x72 at 0x7F836467D6A0>"
            ]
          },
          "metadata": {
            "tags": []
          }
        },
        {
          "output_type": "stream",
          "text": [
            "Guess: さCorrect: き\n"
          ],
          "name": "stdout"
        },
        {
          "output_type": "display_data",
          "data": {
            "image/png": "[encoded data removed]",
            "text/plain": [
              "<PIL.Image.Image image mode=L size=72x72 at 0x7F8364696470>"
            ]
          },
          "metadata": {
            "tags": []
          }
        },
        {
          "output_type": "stream",
          "text": [
            "Guess: うCorrect: ら\n"
          ],
          "name": "stdout"
        },
        {
          "output_type": "display_data",
          "data": {
            "image/png": "[encoded data removed]",
            "text/plain": [
              "<PIL.Image.Image image mode=L size=72x72 at 0x7F836467D710>"
            ]
          },
          "metadata": {
            "tags": []
          }
        },
        {
          "output_type": "stream",
          "text": [
            "Guess: かCorrect: ふ\n"
          ],
          "name": "stdout"
        },
        {
          "output_type": "display_data",
          "data": {
            "image/png": "[encoded data removed]",
            "text/plain": [
              "<PIL.Image.Image image mode=L size=72x72 at 0x7F8364696B70>"
            ]
          },
          "metadata": {
            "tags": []
          }
        },
        {
          "output_type": "stream",
          "text": [
            "Guess: みCorrect: ひ\n"
          ],
          "name": "stdout"
        },
        {
          "output_type": "display_data",
          "data": {
            "image/png": "[encoded data removed]",
            "text/plain": [
              "<PIL.Image.Image image mode=L size=72x72 at 0x7F836467D6A0>"
            ]
          },
          "metadata": {
            "tags": []
          }
        },
        {
          "output_type": "stream",
          "text": [
            "Guess: まCorrect: る\n"
          ],
          "name": "stdout"
        },
        {
          "output_type": "display_data",
          "data": {
            "image/png": "[encoded data removed]",
            "text/plain": [
              "<PIL.Image.Image image mode=L size=72x72 at 0x7F8364696E10>"
            ]
          },
          "metadata": {
            "tags": []
          }
        },
        {
          "output_type": "stream",
          "text": [
            "Guess: そCorrect: も\n"
          ],
          "name": "stdout"
        },
        {
          "output_type": "display_data",
          "data": {
            "image/png": "[encoded data removed]",
            "text/plain": [
              "<PIL.Image.Image image mode=L size=72x72 at 0x7F836467D710>"
            ]
          },
          "metadata": {
            "tags": []
          }
        },
        {
          "output_type": "stream",
          "text": [
            "Guess: ねCorrect: ゐ\n"
          ],
          "name": "stdout"
        },
        {
          "output_type": "display_data",
          "data": {
            "image/png": "[encoded data removed]",
            "text/plain": [
              "<PIL.Image.Image image mode=L size=72x72 at 0x7F8364696470>"
            ]
          },
          "metadata": {
            "tags": []
          }
        },
        {
          "output_type": "stream",
          "text": [
            "Guess: わCorrect: ゆ\n"
          ],
          "name": "stdout"
        },
        {
          "output_type": "display_data",
          "data": {
            "image/png": "[encoded data removed]",
            "text/plain": [
              "<PIL.Image.Image image mode=L size=72x72 at 0x7F836467D6A0>"
            ]
          },
          "metadata": {
            "tags": []
          }
        },
        {
          "output_type": "stream",
          "text": [
            "Guess: んCorrect: え\n"
          ],
          "name": "stdout"
        },
        {
          "output_type": "display_data",
          "data": {
            "image/png": "[encoded data removed]",
            "text/plain": [
              "<PIL.Image.Image image mode=L size=72x72 at 0x7F8364696B70>"
            ]
          },
          "metadata": {
            "tags": []
          }
        },
        {
          "output_type": "stream",
          "text": [
            "Guess: てCorrect: こ\n"
          ],
          "name": "stdout"
        },
        {
          "output_type": "display_data",
          "data": {
            "image/png": "[encoded data removed]",
            "text/plain": [
              "<PIL.Image.Image image mode=L size=72x72 at 0x7F836467D710>"
            ]
          },
          "metadata": {
            "tags": []
          }
        },
        {
          "output_type": "stream",
          "text": [
            "Guess: ゐCorrect: ふ\n"
          ],
          "name": "stdout"
        },
        {
          "output_type": "display_data",
          "data": {
            "image/png": "[encoded data removed]",
            "text/plain": [
              "<PIL.Image.Image image mode=L size=72x72 at 0x7F8364696E10>"
            ]
          },
          "metadata": {
            "tags": []
          }
        },
        {
          "output_type": "stream",
          "text": [
            "Guess: あCorrect: ぬ\n"
          ],
          "name": "stdout"
        },
        {
          "output_type": "display_data",
          "data": {
            "image/png": "[encoded data removed]",
            "text/plain": [
              "<PIL.Image.Image image mode=L size=72x72 at 0x7F836467D6A0>"
            ]
          },
          "metadata": {
            "tags": []
          }
        },
        {
          "output_type": "stream",
          "text": [
            "Guess: らCorrect: ふ\n"
          ],
          "name": "stdout"
        },
        {
          "output_type": "display_data",
          "data": {
            "image/png": "[encoded data removed]",
            "text/plain": [
              "<PIL.Image.Image image mode=L size=72x72 at 0x7F8364696470>"
            ]
          },
          "metadata": {
            "tags": []
          }
        },
        {
          "output_type": "stream",
          "text": [
            "Guess: なCorrect: ま\n"
          ],
          "name": "stdout"
        },
        {
          "output_type": "display_data",
          "data": {
            "image/png": "[encoded data removed]",
            "text/plain": [
              "<PIL.Image.Image image mode=L size=72x72 at 0x7F836467D710>"
            ]
          },
          "metadata": {
            "tags": []
          }
        },
        {
          "output_type": "stream",
          "text": [
            "Guess: ふCorrect: み\n"
          ],
          "name": "stdout"
        },
        {
          "output_type": "display_data",
          "data": {
            "image/png": "[encoded data removed]",
            "text/plain": [
              "<PIL.Image.Image image mode=L size=72x72 at 0x7F8364696B70>"
            ]
          },
          "metadata": {
            "tags": []
          }
        },
        {
          "output_type": "stream",
          "text": [
            "Guess: ゐCorrect: る\n"
          ],
          "name": "stdout"
        },
        {
          "output_type": "display_data",
          "data": {
            "image/png": "[encoded data removed]",
            "text/plain": [
              "<PIL.Image.Image image mode=L size=72x72 at 0x7F836467D6A0>"
            ]
          },
          "metadata": {
            "tags": []
          }
        },
        {
          "output_type": "stream",
          "text": [
            "Guess: えCorrect: ん\n"
          ],
          "name": "stdout"
        },
        {
          "output_type": "display_data",
          "data": {
            "image/png": "[encoded data removed]",
            "text/plain": [
              "<PIL.Image.Image image mode=L size=72x72 at 0x7F8364696E10>"
            ]
          },
          "metadata": {
            "tags": []
          }
        },
        {
          "output_type": "stream",
          "text": [
            "Guess: つCorrect: て\n"
          ],
          "name": "stdout"
        },
        {
          "output_type": "display_data",
          "data": {
            "image/png": "[encoded data removed]",
            "text/plain": [
              "<PIL.Image.Image image mode=L size=72x72 at 0x7F836467D710>"
            ]
          },
          "metadata": {
            "tags": []
          }
        },
        {
          "output_type": "stream",
          "text": [
            "Guess: みCorrect: け\n"
          ],
          "name": "stdout"
        },
        {
          "output_type": "display_data",
          "data": {
            "image/png": "[encoded data removed]",
            "text/plain": [
              "<PIL.Image.Image image mode=L size=72x72 at 0x7F8364696470>"
            ]
          },
          "metadata": {
            "tags": []
          }
        },
        {
          "output_type": "stream",
          "text": [
            "Guess: れCorrect: か\n"
          ],
          "name": "stdout"
        },
        {
          "output_type": "display_data",
          "data": {
            "image/png": "[encoded data removed]",
            "text/plain": [
              "<PIL.Image.Image image mode=L size=72x72 at 0x7F836467D6A0>"
            ]
          },
          "metadata": {
            "tags": []
          }
        },
        {
          "output_type": "stream",
          "text": [
            "Guess: ゐCorrect: る\n"
          ],
          "name": "stdout"
        },
        {
          "output_type": "display_data",
          "data": {
            "image/png": "[encoded data removed]",
            "text/plain": [
              "<PIL.Image.Image image mode=L size=72x72 at 0x7F8364696B70>"
            ]
          },
          "metadata": {
            "tags": []
          }
        },
        {
          "output_type": "stream",
          "text": [
            "Guess: るCorrect: ゐ\n"
          ],
          "name": "stdout"
        },
        {
          "output_type": "display_data",
          "data": {
            "image/png": "[encoded data removed]",
            "text/plain": [
              "<PIL.Image.Image image mode=L size=72x72 at 0x7F836467D710>"
            ]
          },
          "metadata": {
            "tags": []
          }
        },
        {
          "output_type": "stream",
          "text": [
            "Guess: あCorrect: め\n"
          ],
          "name": "stdout"
        },
        {
          "output_type": "display_data",
          "data": {
            "image/png": "[encoded data removed]",
            "text/plain": [
              "<PIL.Image.Image image mode=L size=72x72 at 0x7F8364696E10>"
            ]
          },
          "metadata": {
            "tags": []
          }
        },
        {
          "output_type": "stream",
          "text": [
            "Guess: はCorrect: ほ\n"
          ],
          "name": "stdout"
        },
        {
          "output_type": "display_data",
          "data": {
            "image/png": "[encoded data removed]",
            "text/plain": [
              "<PIL.Image.Image image mode=L size=72x72 at 0x7F836467D6A0>"
            ]
          },
          "metadata": {
            "tags": []
          }
        },
        {
          "output_type": "stream",
          "text": [
            "Guess: もCorrect: わ\n"
          ],
          "name": "stdout"
        },
        {
          "output_type": "display_data",
          "data": {
            "image/png": "[encoded data removed]",
            "text/plain": [
              "<PIL.Image.Image image mode=L size=72x72 at 0x7F8364696470>"
            ]
          },
          "metadata": {
            "tags": []
          }
        },
        {
          "output_type": "stream",
          "text": [
            "Guess: むCorrect: え\n"
          ],
          "name": "stdout"
        },
        {
          "output_type": "display_data",
          "data": {
            "image/png": "[encoded data removed]",
            "text/plain": [
              "<PIL.Image.Image image mode=L size=72x72 at 0x7F836467D710>"
            ]
          },
          "metadata": {
            "tags": []
          }
        },
        {
          "output_type": "stream",
          "text": [
            "Guess: あCorrect: む\n"
          ],
          "name": "stdout"
        },
        {
          "output_type": "display_data",
          "data": {
            "image/png": "[encoded data removed]",
            "text/plain": [
              "<PIL.Image.Image image mode=L size=72x72 at 0x7F8364696B70>"
            ]
          },
          "metadata": {
            "tags": []
          }
        },
        {
          "output_type": "stream",
          "text": [
            "Guess: まCorrect: る\n"
          ],
          "name": "stdout"
        },
        {
          "output_type": "display_data",
          "data": {
            "image/png": "[encoded data removed]",
            "text/plain": [
              "<PIL.Image.Image image mode=L size=72x72 at 0x7F836467D6A0>"
            ]
          },
          "metadata": {
            "tags": []
          }
        },
        {
          "output_type": "stream",
          "text": [
            "Guess: すCorrect: む\n"
          ],
          "name": "stdout"
        },
        {
          "output_type": "display_data",
          "data": {
            "image/png": "[encoded data removed]",
            "text/plain": [
              "<PIL.Image.Image image mode=L size=72x72 at 0x7F8364696E10>"
            ]
          },
          "metadata": {
            "tags": []
          }
        },
        {
          "output_type": "stream",
          "text": [
            "Guess: かCorrect: ふ\n"
          ],
          "name": "stdout"
        },
        {
          "output_type": "display_data",
          "data": {
            "image/png": "[encoded data removed]",
            "text/plain": [
              "<PIL.Image.Image image mode=L size=72x72 at 0x7F836467D710>"
            ]
          },
          "metadata": {
            "tags": []
          }
        },
        {
          "output_type": "stream",
          "text": [
            "Guess: おCorrect: ち\n"
          ],
          "name": "stdout"
        },
        {
          "output_type": "display_data",
          "data": {
            "image/png": "[encoded data removed]",
            "text/plain": [
              "<PIL.Image.Image image mode=L size=72x72 at 0x7F8364696470>"
            ]
          },
          "metadata": {
            "tags": []
          }
        },
        {
          "output_type": "stream",
          "text": [
            "Guess: くCorrect: れ\n"
          ],
          "name": "stdout"
        },
        {
          "output_type": "display_data",
          "data": {
            "image/png": "[encoded data removed]",
            "text/plain": [
              "<PIL.Image.Image image mode=L size=72x72 at 0x7F836467D6A0>"
            ]
          },
          "metadata": {
            "tags": []
          }
        },
        {
          "output_type": "stream",
          "text": [
            "Guess: ろCorrect: る\n"
          ],
          "name": "stdout"
        },
        {
          "output_type": "display_data",
          "data": {
            "image/png": "[encoded data removed]",
            "text/plain": [
              "<PIL.Image.Image image mode=L size=72x72 at 0x7F8364696B70>"
            ]
          },
          "metadata": {
            "tags": []
          }
        },
        {
          "output_type": "stream",
          "text": [
            "Guess: をCorrect: む\n"
          ],
          "name": "stdout"
        }
      ]
    },
    {
      "cell_type": "code",
      "metadata": {
        "id": "8povDScngHti",
        "colab_type": "code",
        "outputId": "c7cc30dd-97a1-4811-abca-864b33747aff",
        "colab": {
          "base_uri": "https://localhost:8080/",
          "height": 573
        }
      },
      "source": [
        "plt.plot(metrics.history['acc'])\n",
        "plt.plot(metrics.history['val_acc'])\n",
        "plt.title('model accuracy')\n",
        "plt.ylabel('accuracy')\n",
        "plt.xlabel('epoch')\n",
        "plt.legend(['train accuracy', 'validation accuracy'], loc='center right')\n",
        "plt.show()\n",
        "plt.plot(metrics.history['loss'])\n",
        "plt.plot(metrics.history['val_loss'])\n",
        "plt.title('model loss')\n",
        "plt.ylabel('loss')\n",
        "plt.xlabel('epoch')\n",
        "plt.legend(['train loss', 'validation loss'], loc='center right')\n",
        "plt.show()"
      ],
      "execution_count": 0,
      "outputs": [
        {
          "output_type": "display_data",
          "data": {
            "image/png": "[encoded data removed]",
            "text/plain": [
              "<Figure size 432x288 with 1 Axes>"
            ]
          },
          "metadata": {
            "tags": []
          }
        },
        {
          "output_type": "display_data",
          "data": {
            "image/png": "[encoded data removed]",
            "text/plain": [
              "<Figure size 432x288 with 1 Axes>"
            ]
          },
          "metadata": {
            "tags": []
          }
        }
      ]
    },
    {
      "cell_type": "code",
      "metadata": {
        "id": "tJfZP44ZTvu0",
        "colab_type": "code",
        "colab": {}
      },
      "source": [
        "#Save model\n",
        "model.save(\"bestResult.h5\")\n"
      ],
      "execution_count": 0,
      "outputs": []
    }
  ]
}